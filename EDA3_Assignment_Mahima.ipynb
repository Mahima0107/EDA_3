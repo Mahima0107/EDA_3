{
 "cells": [
  {
   "cell_type": "markdown",
   "id": "710faee3-66b0-47a7-b523-befad77d2699",
   "metadata": {},
   "source": [
    "# Exploratory Data Analysis :"
   ]
  },
  {
   "cell_type": "code",
   "execution_count": 54,
   "id": "2ca8b8f4-4436-4090-829c-9ea00c9e7eff",
   "metadata": {},
   "outputs": [],
   "source": [
    "import numpy as np\n",
    "import pandas as pd\n",
    "import matplotlib.pyplot as plt \n",
    "import seaborn as sns"
   ]
  },
  {
   "cell_type": "code",
   "execution_count": 56,
   "id": "fa85a733-c6eb-41a1-9497-a00a00ad90e1",
   "metadata": {},
   "outputs": [],
   "source": [
    "from sklearn.model_selection import train_test_split\n",
    "from sklearn.linear_model import LogisticRegression\n",
    "from sklearn.ensemble import RandomForestClassifier\n",
    "from sklearn.preprocessing import LabelEncoder\n",
    "from sklearn.metrics import accuracy_score, confusion_matrix, classification_report\n",
    "from sklearn.preprocessing import StandardScaler"
   ]
  },
  {
   "cell_type": "code",
   "execution_count": null,
   "id": "d8b7733b-f3e8-4a1e-9481-0701ce272c6b",
   "metadata": {},
   "outputs": [],
   "source": []
  },
  {
   "cell_type": "code",
   "execution_count": 59,
   "id": "2b6d655d-c11c-48b8-aeec-e36fdf6565f3",
   "metadata": {},
   "outputs": [
    {
     "data": {
      "text/html": [
       "<div>\n",
       "<style scoped>\n",
       "    .dataframe tbody tr th:only-of-type {\n",
       "        vertical-align: middle;\n",
       "    }\n",
       "\n",
       "    .dataframe tbody tr th {\n",
       "        vertical-align: top;\n",
       "    }\n",
       "\n",
       "    .dataframe thead th {\n",
       "        text-align: right;\n",
       "    }\n",
       "</style>\n",
       "<table border=\"1\" class=\"dataframe\">\n",
       "  <thead>\n",
       "    <tr style=\"text-align: right;\">\n",
       "      <th></th>\n",
       "      <th>Patient_ID</th>\n",
       "      <th>Age</th>\n",
       "      <th>Gender</th>\n",
       "      <th>Tumor_Type</th>\n",
       "      <th>Tumor_Size</th>\n",
       "      <th>Location</th>\n",
       "      <th>Histology</th>\n",
       "      <th>Stage</th>\n",
       "      <th>Symptom_1</th>\n",
       "      <th>Symptom_2</th>\n",
       "      <th>Symptom_3</th>\n",
       "      <th>Radiation_Treatment</th>\n",
       "      <th>Surgery_Performed</th>\n",
       "      <th>Chemotherapy</th>\n",
       "      <th>Survival_Rate</th>\n",
       "      <th>Tumor_Growth_Rate</th>\n",
       "      <th>Family_History</th>\n",
       "      <th>MRI_Result</th>\n",
       "      <th>Follow_Up_Required</th>\n",
       "    </tr>\n",
       "  </thead>\n",
       "  <tbody>\n",
       "    <tr>\n",
       "      <th>0</th>\n",
       "      <td>1</td>\n",
       "      <td>73</td>\n",
       "      <td>Male</td>\n",
       "      <td>Malignant</td>\n",
       "      <td>5.375612</td>\n",
       "      <td>Temporal</td>\n",
       "      <td>Astrocytoma</td>\n",
       "      <td>III</td>\n",
       "      <td>Vision Issues</td>\n",
       "      <td>Seizures</td>\n",
       "      <td>Seizures</td>\n",
       "      <td>No</td>\n",
       "      <td>No</td>\n",
       "      <td>No</td>\n",
       "      <td>51.312579</td>\n",
       "      <td>0.111876</td>\n",
       "      <td>No</td>\n",
       "      <td>Positive</td>\n",
       "      <td>Yes</td>\n",
       "    </tr>\n",
       "    <tr>\n",
       "      <th>1</th>\n",
       "      <td>2</td>\n",
       "      <td>26</td>\n",
       "      <td>Male</td>\n",
       "      <td>Benign</td>\n",
       "      <td>4.847098</td>\n",
       "      <td>Parietal</td>\n",
       "      <td>Glioblastoma</td>\n",
       "      <td>II</td>\n",
       "      <td>Headache</td>\n",
       "      <td>Headache</td>\n",
       "      <td>Nausea</td>\n",
       "      <td>Yes</td>\n",
       "      <td>Yes</td>\n",
       "      <td>Yes</td>\n",
       "      <td>46.373273</td>\n",
       "      <td>2.165736</td>\n",
       "      <td>Yes</td>\n",
       "      <td>Positive</td>\n",
       "      <td>Yes</td>\n",
       "    </tr>\n",
       "    <tr>\n",
       "      <th>2</th>\n",
       "      <td>3</td>\n",
       "      <td>31</td>\n",
       "      <td>Male</td>\n",
       "      <td>Benign</td>\n",
       "      <td>5.588391</td>\n",
       "      <td>Parietal</td>\n",
       "      <td>Meningioma</td>\n",
       "      <td>I</td>\n",
       "      <td>Vision Issues</td>\n",
       "      <td>Headache</td>\n",
       "      <td>Seizures</td>\n",
       "      <td>No</td>\n",
       "      <td>No</td>\n",
       "      <td>No</td>\n",
       "      <td>47.072221</td>\n",
       "      <td>1.884228</td>\n",
       "      <td>No</td>\n",
       "      <td>Negative</td>\n",
       "      <td>No</td>\n",
       "    </tr>\n",
       "    <tr>\n",
       "      <th>3</th>\n",
       "      <td>4</td>\n",
       "      <td>29</td>\n",
       "      <td>Male</td>\n",
       "      <td>Malignant</td>\n",
       "      <td>1.436600</td>\n",
       "      <td>Temporal</td>\n",
       "      <td>Medulloblastoma</td>\n",
       "      <td>IV</td>\n",
       "      <td>Vision Issues</td>\n",
       "      <td>Seizures</td>\n",
       "      <td>Headache</td>\n",
       "      <td>Yes</td>\n",
       "      <td>No</td>\n",
       "      <td>Yes</td>\n",
       "      <td>51.853634</td>\n",
       "      <td>1.283342</td>\n",
       "      <td>Yes</td>\n",
       "      <td>Negative</td>\n",
       "      <td>No</td>\n",
       "    </tr>\n",
       "    <tr>\n",
       "      <th>4</th>\n",
       "      <td>5</td>\n",
       "      <td>54</td>\n",
       "      <td>Female</td>\n",
       "      <td>Benign</td>\n",
       "      <td>2.417506</td>\n",
       "      <td>Parietal</td>\n",
       "      <td>Glioblastoma</td>\n",
       "      <td>I</td>\n",
       "      <td>Headache</td>\n",
       "      <td>Headache</td>\n",
       "      <td>Seizures</td>\n",
       "      <td>No</td>\n",
       "      <td>No</td>\n",
       "      <td>Yes</td>\n",
       "      <td>54.708987</td>\n",
       "      <td>2.069477</td>\n",
       "      <td>No</td>\n",
       "      <td>Positive</td>\n",
       "      <td>Yes</td>\n",
       "    </tr>\n",
       "    <tr>\n",
       "      <th>...</th>\n",
       "      <td>...</td>\n",
       "      <td>...</td>\n",
       "      <td>...</td>\n",
       "      <td>...</td>\n",
       "      <td>...</td>\n",
       "      <td>...</td>\n",
       "      <td>...</td>\n",
       "      <td>...</td>\n",
       "      <td>...</td>\n",
       "      <td>...</td>\n",
       "      <td>...</td>\n",
       "      <td>...</td>\n",
       "      <td>...</td>\n",
       "      <td>...</td>\n",
       "      <td>...</td>\n",
       "      <td>...</td>\n",
       "      <td>...</td>\n",
       "      <td>...</td>\n",
       "      <td>...</td>\n",
       "    </tr>\n",
       "    <tr>\n",
       "      <th>19995</th>\n",
       "      <td>19996</td>\n",
       "      <td>21</td>\n",
       "      <td>Male</td>\n",
       "      <td>Malignant</td>\n",
       "      <td>9.612013</td>\n",
       "      <td>Parietal</td>\n",
       "      <td>Medulloblastoma</td>\n",
       "      <td>III</td>\n",
       "      <td>Seizures</td>\n",
       "      <td>Nausea</td>\n",
       "      <td>Vision Issues</td>\n",
       "      <td>No</td>\n",
       "      <td>No</td>\n",
       "      <td>Yes</td>\n",
       "      <td>58.229662</td>\n",
       "      <td>0.353806</td>\n",
       "      <td>No</td>\n",
       "      <td>Negative</td>\n",
       "      <td>Yes</td>\n",
       "    </tr>\n",
       "    <tr>\n",
       "      <th>19996</th>\n",
       "      <td>19997</td>\n",
       "      <td>32</td>\n",
       "      <td>Female</td>\n",
       "      <td>Benign</td>\n",
       "      <td>1.543560</td>\n",
       "      <td>Temporal</td>\n",
       "      <td>Meningioma</td>\n",
       "      <td>III</td>\n",
       "      <td>Headache</td>\n",
       "      <td>Headache</td>\n",
       "      <td>Vision Issues</td>\n",
       "      <td>Yes</td>\n",
       "      <td>Yes</td>\n",
       "      <td>No</td>\n",
       "      <td>77.706856</td>\n",
       "      <td>2.341074</td>\n",
       "      <td>No</td>\n",
       "      <td>Positive</td>\n",
       "      <td>No</td>\n",
       "    </tr>\n",
       "    <tr>\n",
       "      <th>19997</th>\n",
       "      <td>19998</td>\n",
       "      <td>57</td>\n",
       "      <td>Female</td>\n",
       "      <td>Benign</td>\n",
       "      <td>3.618634</td>\n",
       "      <td>Temporal</td>\n",
       "      <td>Medulloblastoma</td>\n",
       "      <td>I</td>\n",
       "      <td>Seizures</td>\n",
       "      <td>Vision Issues</td>\n",
       "      <td>Nausea</td>\n",
       "      <td>No</td>\n",
       "      <td>No</td>\n",
       "      <td>Yes</td>\n",
       "      <td>89.543803</td>\n",
       "      <td>2.332881</td>\n",
       "      <td>No</td>\n",
       "      <td>Positive</td>\n",
       "      <td>Yes</td>\n",
       "    </tr>\n",
       "    <tr>\n",
       "      <th>19998</th>\n",
       "      <td>19999</td>\n",
       "      <td>68</td>\n",
       "      <td>Male</td>\n",
       "      <td>Malignant</td>\n",
       "      <td>8.519086</td>\n",
       "      <td>Parietal</td>\n",
       "      <td>Glioblastoma</td>\n",
       "      <td>III</td>\n",
       "      <td>Seizures</td>\n",
       "      <td>Headache</td>\n",
       "      <td>Vision Issues</td>\n",
       "      <td>Yes</td>\n",
       "      <td>Yes</td>\n",
       "      <td>Yes</td>\n",
       "      <td>83.306781</td>\n",
       "      <td>2.387202</td>\n",
       "      <td>No</td>\n",
       "      <td>Positive</td>\n",
       "      <td>No</td>\n",
       "    </tr>\n",
       "    <tr>\n",
       "      <th>19999</th>\n",
       "      <td>20000</td>\n",
       "      <td>61</td>\n",
       "      <td>Male</td>\n",
       "      <td>Benign</td>\n",
       "      <td>9.716768</td>\n",
       "      <td>Temporal</td>\n",
       "      <td>Medulloblastoma</td>\n",
       "      <td>I</td>\n",
       "      <td>Vision Issues</td>\n",
       "      <td>Seizures</td>\n",
       "      <td>Nausea</td>\n",
       "      <td>No</td>\n",
       "      <td>No</td>\n",
       "      <td>No</td>\n",
       "      <td>47.433468</td>\n",
       "      <td>2.464077</td>\n",
       "      <td>Yes</td>\n",
       "      <td>Negative</td>\n",
       "      <td>Yes</td>\n",
       "    </tr>\n",
       "  </tbody>\n",
       "</table>\n",
       "<p>20000 rows × 19 columns</p>\n",
       "</div>"
      ],
      "text/plain": [
       "       Patient_ID  Age  Gender Tumor_Type  Tumor_Size  Location  \\\n",
       "0               1   73    Male  Malignant    5.375612  Temporal   \n",
       "1               2   26    Male     Benign    4.847098  Parietal   \n",
       "2               3   31    Male     Benign    5.588391  Parietal   \n",
       "3               4   29    Male  Malignant    1.436600  Temporal   \n",
       "4               5   54  Female     Benign    2.417506  Parietal   \n",
       "...           ...  ...     ...        ...         ...       ...   \n",
       "19995       19996   21    Male  Malignant    9.612013  Parietal   \n",
       "19996       19997   32  Female     Benign    1.543560  Temporal   \n",
       "19997       19998   57  Female     Benign    3.618634  Temporal   \n",
       "19998       19999   68    Male  Malignant    8.519086  Parietal   \n",
       "19999       20000   61    Male     Benign    9.716768  Temporal   \n",
       "\n",
       "             Histology Stage      Symptom_1      Symptom_2      Symptom_3  \\\n",
       "0          Astrocytoma   III  Vision Issues       Seizures       Seizures   \n",
       "1         Glioblastoma    II       Headache       Headache         Nausea   \n",
       "2           Meningioma     I  Vision Issues       Headache       Seizures   \n",
       "3      Medulloblastoma    IV  Vision Issues       Seizures       Headache   \n",
       "4         Glioblastoma     I       Headache       Headache       Seizures   \n",
       "...                ...   ...            ...            ...            ...   \n",
       "19995  Medulloblastoma   III       Seizures         Nausea  Vision Issues   \n",
       "19996       Meningioma   III       Headache       Headache  Vision Issues   \n",
       "19997  Medulloblastoma     I       Seizures  Vision Issues         Nausea   \n",
       "19998     Glioblastoma   III       Seizures       Headache  Vision Issues   \n",
       "19999  Medulloblastoma     I  Vision Issues       Seizures         Nausea   \n",
       "\n",
       "      Radiation_Treatment Surgery_Performed Chemotherapy  Survival_Rate  \\\n",
       "0                      No                No           No      51.312579   \n",
       "1                     Yes               Yes          Yes      46.373273   \n",
       "2                      No                No           No      47.072221   \n",
       "3                     Yes                No          Yes      51.853634   \n",
       "4                      No                No          Yes      54.708987   \n",
       "...                   ...               ...          ...            ...   \n",
       "19995                  No                No          Yes      58.229662   \n",
       "19996                 Yes               Yes           No      77.706856   \n",
       "19997                  No                No          Yes      89.543803   \n",
       "19998                 Yes               Yes          Yes      83.306781   \n",
       "19999                  No                No           No      47.433468   \n",
       "\n",
       "       Tumor_Growth_Rate Family_History MRI_Result Follow_Up_Required  \n",
       "0               0.111876             No   Positive                Yes  \n",
       "1               2.165736            Yes   Positive                Yes  \n",
       "2               1.884228             No   Negative                 No  \n",
       "3               1.283342            Yes   Negative                 No  \n",
       "4               2.069477             No   Positive                Yes  \n",
       "...                  ...            ...        ...                ...  \n",
       "19995           0.353806             No   Negative                Yes  \n",
       "19996           2.341074             No   Positive                 No  \n",
       "19997           2.332881             No   Positive                Yes  \n",
       "19998           2.387202             No   Positive                 No  \n",
       "19999           2.464077            Yes   Negative                Yes  \n",
       "\n",
       "[20000 rows x 19 columns]"
      ]
     },
     "execution_count": 59,
     "metadata": {},
     "output_type": "execute_result"
    }
   ],
   "source": [
    "# load and read the dataset\n",
    "df = pd.read_csv(\"brain_tumor_dataset.csv\")\n",
    "df"
   ]
  },
  {
   "cell_type": "markdown",
   "id": "2d7bd2e7-ef2e-4328-a4c6-8a891828ef20",
   "metadata": {},
   "source": [
    "## In this dataset there are 20000 rows and 19 columns."
   ]
  },
  {
   "cell_type": "code",
   "execution_count": null,
   "id": "d9eab82b-0f13-4228-8adf-84b0095eb0bf",
   "metadata": {},
   "outputs": [],
   "source": []
  },
  {
   "cell_type": "code",
   "execution_count": 63,
   "id": "f67413b5-5347-42bc-b461-d44d84ceb939",
   "metadata": {},
   "outputs": [
    {
     "name": "stdout",
     "output_type": "stream",
     "text": [
      "<class 'pandas.core.frame.DataFrame'>\n",
      "RangeIndex: 20000 entries, 0 to 19999\n",
      "Data columns (total 19 columns):\n",
      " #   Column               Non-Null Count  Dtype  \n",
      "---  ------               --------------  -----  \n",
      " 0   Patient_ID           20000 non-null  int64  \n",
      " 1   Age                  20000 non-null  int64  \n",
      " 2   Gender               20000 non-null  object \n",
      " 3   Tumor_Type           20000 non-null  object \n",
      " 4   Tumor_Size           20000 non-null  float64\n",
      " 5   Location             20000 non-null  object \n",
      " 6   Histology            20000 non-null  object \n",
      " 7   Stage                20000 non-null  object \n",
      " 8   Symptom_1            20000 non-null  object \n",
      " 9   Symptom_2            20000 non-null  object \n",
      " 10  Symptom_3            20000 non-null  object \n",
      " 11  Radiation_Treatment  20000 non-null  object \n",
      " 12  Surgery_Performed    20000 non-null  object \n",
      " 13  Chemotherapy         20000 non-null  object \n",
      " 14  Survival_Rate        20000 non-null  float64\n",
      " 15  Tumor_Growth_Rate    20000 non-null  float64\n",
      " 16  Family_History       20000 non-null  object \n",
      " 17  MRI_Result           20000 non-null  object \n",
      " 18  Follow_Up_Required   20000 non-null  object \n",
      "dtypes: float64(3), int64(2), object(14)\n",
      "memory usage: 2.9+ MB\n"
     ]
    }
   ],
   "source": [
    "df.info()"
   ]
  },
  {
   "cell_type": "markdown",
   "id": "9d0c26cb-b872-49ea-836e-ff21276aade8",
   "metadata": {},
   "source": [
    "## Show the Index Information , Column Details , Non-Null Count , Dtype summary and Memory Usage."
   ]
  },
  {
   "cell_type": "code",
   "execution_count": null,
   "id": "59cb495c-8d07-4704-bc1d-a9c1b13ec99e",
   "metadata": {},
   "outputs": [],
   "source": []
  },
  {
   "cell_type": "code",
   "execution_count": 67,
   "id": "9af0bdfe-254c-4a07-8a8c-b6d35d1c0cff",
   "metadata": {},
   "outputs": [
    {
     "data": {
      "text/plain": [
       "Index(['Patient_ID', 'Age', 'Gender', 'Tumor_Type', 'Tumor_Size', 'Location',\n",
       "       'Histology', 'Stage', 'Symptom_1', 'Symptom_2', 'Symptom_3',\n",
       "       'Radiation_Treatment', 'Surgery_Performed', 'Chemotherapy',\n",
       "       'Survival_Rate', 'Tumor_Growth_Rate', 'Family_History', 'MRI_Result',\n",
       "       'Follow_Up_Required'],\n",
       "      dtype='object')"
      ]
     },
     "execution_count": 67,
     "metadata": {},
     "output_type": "execute_result"
    }
   ],
   "source": [
    "df.columns"
   ]
  },
  {
   "cell_type": "markdown",
   "id": "b5420873-05ee-4837-b426-a7cda5cad31e",
   "metadata": {},
   "source": [
    "## Show all columns name."
   ]
  },
  {
   "cell_type": "code",
   "execution_count": null,
   "id": "6ead13a3-889d-4297-8def-bd0a19f529f9",
   "metadata": {},
   "outputs": [],
   "source": []
  },
  {
   "cell_type": "code",
   "execution_count": 71,
   "id": "6c6557f9-a3c0-492d-9159-7c8abbedde3c",
   "metadata": {},
   "outputs": [
    {
     "data": {
      "text/html": [
       "<div>\n",
       "<style scoped>\n",
       "    .dataframe tbody tr th:only-of-type {\n",
       "        vertical-align: middle;\n",
       "    }\n",
       "\n",
       "    .dataframe tbody tr th {\n",
       "        vertical-align: top;\n",
       "    }\n",
       "\n",
       "    .dataframe thead th {\n",
       "        text-align: right;\n",
       "    }\n",
       "</style>\n",
       "<table border=\"1\" class=\"dataframe\">\n",
       "  <thead>\n",
       "    <tr style=\"text-align: right;\">\n",
       "      <th></th>\n",
       "      <th>Patient_ID</th>\n",
       "      <th>Age</th>\n",
       "      <th>Tumor_Size</th>\n",
       "      <th>Survival_Rate</th>\n",
       "      <th>Tumor_Growth_Rate</th>\n",
       "    </tr>\n",
       "  </thead>\n",
       "  <tbody>\n",
       "    <tr>\n",
       "      <th>count</th>\n",
       "      <td>20000.000000</td>\n",
       "      <td>20000.000000</td>\n",
       "      <td>20000.000000</td>\n",
       "      <td>20000.000000</td>\n",
       "      <td>20000.000000</td>\n",
       "    </tr>\n",
       "    <tr>\n",
       "      <th>mean</th>\n",
       "      <td>10000.500000</td>\n",
       "      <td>49.433700</td>\n",
       "      <td>5.236552</td>\n",
       "      <td>70.131699</td>\n",
       "      <td>1.547701</td>\n",
       "    </tr>\n",
       "    <tr>\n",
       "      <th>std</th>\n",
       "      <td>5773.647028</td>\n",
       "      <td>17.389296</td>\n",
       "      <td>2.754359</td>\n",
       "      <td>17.270834</td>\n",
       "      <td>0.835995</td>\n",
       "    </tr>\n",
       "    <tr>\n",
       "      <th>min</th>\n",
       "      <td>1.000000</td>\n",
       "      <td>20.000000</td>\n",
       "      <td>0.500410</td>\n",
       "      <td>40.002386</td>\n",
       "      <td>0.100017</td>\n",
       "    </tr>\n",
       "    <tr>\n",
       "      <th>25%</th>\n",
       "      <td>5000.750000</td>\n",
       "      <td>34.000000</td>\n",
       "      <td>2.836686</td>\n",
       "      <td>55.224439</td>\n",
       "      <td>0.830433</td>\n",
       "    </tr>\n",
       "    <tr>\n",
       "      <th>50%</th>\n",
       "      <td>10000.500000</td>\n",
       "      <td>49.000000</td>\n",
       "      <td>5.200675</td>\n",
       "      <td>70.305066</td>\n",
       "      <td>1.541821</td>\n",
       "    </tr>\n",
       "    <tr>\n",
       "      <th>75%</th>\n",
       "      <td>15000.250000</td>\n",
       "      <td>65.000000</td>\n",
       "      <td>7.624299</td>\n",
       "      <td>85.043395</td>\n",
       "      <td>2.262484</td>\n",
       "    </tr>\n",
       "    <tr>\n",
       "      <th>max</th>\n",
       "      <td>20000.000000</td>\n",
       "      <td>79.000000</td>\n",
       "      <td>9.999420</td>\n",
       "      <td>99.998125</td>\n",
       "      <td>2.999835</td>\n",
       "    </tr>\n",
       "  </tbody>\n",
       "</table>\n",
       "</div>"
      ],
      "text/plain": [
       "         Patient_ID           Age    Tumor_Size  Survival_Rate  \\\n",
       "count  20000.000000  20000.000000  20000.000000   20000.000000   \n",
       "mean   10000.500000     49.433700      5.236552      70.131699   \n",
       "std     5773.647028     17.389296      2.754359      17.270834   \n",
       "min        1.000000     20.000000      0.500410      40.002386   \n",
       "25%     5000.750000     34.000000      2.836686      55.224439   \n",
       "50%    10000.500000     49.000000      5.200675      70.305066   \n",
       "75%    15000.250000     65.000000      7.624299      85.043395   \n",
       "max    20000.000000     79.000000      9.999420      99.998125   \n",
       "\n",
       "       Tumor_Growth_Rate  \n",
       "count       20000.000000  \n",
       "mean            1.547701  \n",
       "std             0.835995  \n",
       "min             0.100017  \n",
       "25%             0.830433  \n",
       "50%             1.541821  \n",
       "75%             2.262484  \n",
       "max             2.999835  "
      ]
     },
     "execution_count": 71,
     "metadata": {},
     "output_type": "execute_result"
    }
   ],
   "source": [
    "#statistical description\n",
    "df.describe()"
   ]
  },
  {
   "cell_type": "markdown",
   "id": "b4ba61a8-d099-4651-9f09-744cc170df88",
   "metadata": {},
   "source": [
    "## Show statical description of this dataset.(Numerical columns)"
   ]
  },
  {
   "cell_type": "code",
   "execution_count": null,
   "id": "4dc20a93-482c-49e4-88fe-97d76bc7e0a9",
   "metadata": {},
   "outputs": [],
   "source": []
  },
  {
   "cell_type": "code",
   "execution_count": 75,
   "id": "8dc57005-76e6-4485-9c6d-2a92a273f20c",
   "metadata": {},
   "outputs": [
    {
     "data": {
      "text/plain": [
       "Patient_ID             0\n",
       "Age                    0\n",
       "Gender                 0\n",
       "Tumor_Type             0\n",
       "Tumor_Size             0\n",
       "Location               0\n",
       "Histology              0\n",
       "Stage                  0\n",
       "Symptom_1              0\n",
       "Symptom_2              0\n",
       "Symptom_3              0\n",
       "Radiation_Treatment    0\n",
       "Surgery_Performed      0\n",
       "Chemotherapy           0\n",
       "Survival_Rate          0\n",
       "Tumor_Growth_Rate      0\n",
       "Family_History         0\n",
       "MRI_Result             0\n",
       "Follow_Up_Required     0\n",
       "dtype: int64"
      ]
     },
     "execution_count": 75,
     "metadata": {},
     "output_type": "execute_result"
    }
   ],
   "source": [
    "df.isna().sum()"
   ]
  },
  {
   "cell_type": "markdown",
   "id": "586562c5-47d5-4ede-96f4-f01ef1b17295",
   "metadata": {},
   "source": [
    "## Show null values.(There are no null value in this dataset)"
   ]
  },
  {
   "cell_type": "code",
   "execution_count": null,
   "id": "b34d6e81-0d1b-4c22-832a-0ac31bbd72af",
   "metadata": {},
   "outputs": [],
   "source": []
  },
  {
   "cell_type": "code",
   "execution_count": 79,
   "id": "d7d8d4c8-ae1a-4797-ab8b-0d407db5ae4d",
   "metadata": {},
   "outputs": [
    {
     "data": {
      "text/plain": [
       "0"
      ]
     },
     "execution_count": 79,
     "metadata": {},
     "output_type": "execute_result"
    }
   ],
   "source": [
    "df.duplicated().sum()"
   ]
  },
  {
   "cell_type": "markdown",
   "id": "fc2381bf-1ca4-48a6-8057-8d9b3d2f2807",
   "metadata": {},
   "source": [
    "# Age :  "
   ]
  },
  {
   "cell_type": "code",
   "execution_count": 82,
   "id": "e4d7e0f9-04b1-4621-9f32-8c0833752d70",
   "metadata": {},
   "outputs": [
    {
     "data": {
      "text/plain": [
       "49.4337"
      ]
     },
     "execution_count": 82,
     "metadata": {},
     "output_type": "execute_result"
    }
   ],
   "source": [
    "df['Age'].mean()"
   ]
  },
  {
   "cell_type": "code",
   "execution_count": 84,
   "id": "e4775e66-4ccc-485d-b399-1fba1477fe2d",
   "metadata": {},
   "outputs": [
    {
     "data": {
      "text/plain": [
       "0    31\n",
       "Name: Age, dtype: int64"
      ]
     },
     "execution_count": 84,
     "metadata": {},
     "output_type": "execute_result"
    }
   ],
   "source": [
    "df['Age'].mode()"
   ]
  },
  {
   "cell_type": "markdown",
   "id": "2e96ff1c-d802-4c70-aeea-6f7fb7b1ec22",
   "metadata": {},
   "source": [
    "### Histogram Plot : "
   ]
  },
  {
   "cell_type": "code",
   "execution_count": 87,
   "id": "ac073b7b-67cf-4a11-8ec9-868f10bb28f3",
   "metadata": {},
   "outputs": [
    {
     "data": {
      "image/png": "[encoded data removed]",
      "text/plain": [
       "<Figure size 640x480 with 1 Axes>"
      ]
     },
     "metadata": {},
     "output_type": "display_data"
    }
   ],
   "source": [
    "df['Age'].plot(kind = \"hist\", edgecolor = \"black\")\n",
    "plt.title(\"Age Distribution of Patient\")\n",
    "plt.xlabel(\"Age\")\n",
    "plt.ylabel('Frequency')\n",
    "plt.show()\n"
   ]
  },
  {
   "cell_type": "markdown",
   "id": "20eb48f2-6fbe-4413-b64f-638db9183237",
   "metadata": {},
   "source": [
    "## Displays the frequency distribution of ages."
   ]
  },
  {
   "cell_type": "markdown",
   "id": "8f8dcb38-5f4f-4236-aec8-b13e6c0991b3",
   "metadata": {},
   "source": [
    "# Gender : "
   ]
  },
  {
   "cell_type": "code",
   "execution_count": 329,
   "id": "cbcb9e2d-7ea8-4405-82e4-99befef58cfd",
   "metadata": {},
   "outputs": [
    {
     "data": {
      "text/plain": [
       "Gender\n",
       "Female    10016\n",
       "Male       9984\n",
       "Name: count, dtype: int64"
      ]
     },
     "execution_count": 329,
     "metadata": {},
     "output_type": "execute_result"
    }
   ],
   "source": [
    "df['Gender'].value_counts()"
   ]
  },
  {
   "cell_type": "code",
   "execution_count": 331,
   "id": "18d66670-8c6b-467a-b805-ac92d499976a",
   "metadata": {},
   "outputs": [
    {
     "data": {
      "text/plain": [
       "Gender\n",
       "Female    49.361422\n",
       "Male      49.506210\n",
       "Name: Age, dtype: float64"
      ]
     },
     "execution_count": 331,
     "metadata": {},
     "output_type": "execute_result"
    }
   ],
   "source": [
    "df.groupby('Gender')['Age'].mean()"
   ]
  },
  {
   "cell_type": "markdown",
   "id": "490d69e5-4f58-45fa-a361-0ad760897e0a",
   "metadata": {},
   "source": [
    "### Bar Plot : "
   ]
  },
  {
   "cell_type": "code",
   "execution_count": 334,
   "id": "d5ddc529-cadd-4b44-a073-1d4c3f0086ab",
   "metadata": {},
   "outputs": [
    {
     "data": {
      "image/png": "[encoded data removed]",
      "text/plain": [
       "<Figure size 640x480 with 1 Axes>"
      ]
     },
     "metadata": {},
     "output_type": "display_data"
    }
   ],
   "source": [
    "df['Gender'].value_counts().plot(kind='bar', color=['pink', 'lightblue'])\n",
    "plt.title('Gender Distribution')\n",
    "plt.xlabel('Gender')\n",
    "plt.ylabel('Count')\n",
    "plt.show()\n"
   ]
  },
  {
   "cell_type": "markdown",
   "id": "e2ba7deb-0368-4384-9043-89b8be1671d1",
   "metadata": {},
   "source": [
    "## Count of gender (the female count is higher as compaired to male)"
   ]
  },
  {
   "cell_type": "markdown",
   "id": "892c94f9-2b01-4c29-9d1e-2b71f9018327",
   "metadata": {},
   "source": [
    "# Tumor Type : "
   ]
  },
  {
   "cell_type": "code",
   "execution_count": 337,
   "id": "f6ed35c5-cdc4-4317-aded-8256fa87cc53",
   "metadata": {},
   "outputs": [
    {
     "data": {
      "text/plain": [
       "array(['Malignant', 'Benign'], dtype=object)"
      ]
     },
     "execution_count": 337,
     "metadata": {},
     "output_type": "execute_result"
    }
   ],
   "source": [
    "df['Tumor_Type'].unique()"
   ]
  },
  {
   "cell_type": "markdown",
   "id": "3be416d7-b73a-438f-ba6b-018fdc89c4ee",
   "metadata": {},
   "source": [
    "### Pie Plot : "
   ]
  },
  {
   "cell_type": "code",
   "execution_count": 373,
   "id": "0a3a0967-5b1c-4f0b-8abb-d482e02b18b8",
   "metadata": {},
   "outputs": [
    {
     "data": {
      "image/png": "[encoded data removed]",
      "text/plain": [
       "<Figure size 640x480 with 1 Axes>"
      ]
     },
     "metadata": {},
     "output_type": "display_data"
    }
   ],
   "source": [
    "tumor_counts = df['Tumor_Type'].value_counts()\n",
    "\n",
    "plt.pie(tumor_counts, labels = tumor_counts.index, autopct='%1.1f%%', startangle=90, colors=plt.cm.Paired.colors)\n",
    "plt.title('Tumor_Type_Distribution')\n",
    "plt.axis('equal')\n",
    "plt.show()"
   ]
  },
  {
   "cell_type": "markdown",
   "id": "ee622761-2cbd-4923-ad7c-61af8ddf4bcb",
   "metadata": {},
   "source": [
    "## Shows the proportion of different Tumor_Type conditions in the dataset.(the Tumor_Type count of Malignant is higher as compaired to count of Benign)"
   ]
  },
  {
   "cell_type": "markdown",
   "id": "0dbd4ea7-38ed-468a-9393-2f76d843dc36",
   "metadata": {},
   "source": [
    "# Location : "
   ]
  },
  {
   "cell_type": "code",
   "execution_count": 343,
   "id": "f6c974e8-8e11-4859-b31c-92c8e694b466",
   "metadata": {},
   "outputs": [
    {
     "data": {
      "text/plain": [
       "array(['Temporal', 'Parietal', 'Frontal', 'Occipital'], dtype=object)"
      ]
     },
     "execution_count": 343,
     "metadata": {},
     "output_type": "execute_result"
    }
   ],
   "source": [
    "df['Location'].unique()"
   ]
  },
  {
   "cell_type": "code",
   "execution_count": null,
   "id": "fac0d0e4-8e55-4302-97f9-860d0c1fb816",
   "metadata": {},
   "outputs": [],
   "source": []
  },
  {
   "cell_type": "code",
   "execution_count": 346,
   "id": "f6a7a90d-f6ec-4b1b-8adb-2fc9acd675ea",
   "metadata": {},
   "outputs": [
    {
     "name": "stdout",
     "output_type": "stream",
     "text": [
      "Location\n",
      "Temporal     5118\n",
      "Parietal     4990\n",
      "Occipital    4967\n",
      "Frontal      4925\n",
      "Name: count, dtype: int64\n"
     ]
    }
   ],
   "source": [
    "location_counts = df['Location'].value_counts()\n",
    "print(location_counts)"
   ]
  },
  {
   "cell_type": "markdown",
   "id": "02f123f2-e71a-4c01-aa66-a086f0fee33f",
   "metadata": {},
   "source": [
    "### Bar Plot : "
   ]
  },
  {
   "cell_type": "code",
   "execution_count": 349,
   "id": "ff9e50a0-0dca-4f41-9634-4c43e45ddb12",
   "metadata": {},
   "outputs": [
    {
     "data": {
      "image/png": "[encoded data removed]",
      "text/plain": [
       "<Figure size 1200x600 with 1 Axes>"
      ]
     },
     "metadata": {},
     "output_type": "display_data"
    }
   ],
   "source": [
    "df['Location'].value_counts().plot(kind='bar', figsize=(12, 6))\n",
    "plt.title('Number of Records per Location')\n",
    "plt.xlabel('Location')\n",
    "plt.ylabel('Count')\n",
    "plt.xticks(rotation=45)\n",
    "plt.tight_layout()\n",
    "plt.show()"
   ]
  },
  {
   "cell_type": "markdown",
   "id": "97bbe7a3-2e3a-4e4e-8d30-f46aac5b8b18",
   "metadata": {},
   "source": [
    "## This bar chart provides a clear visual representation of the data distribution across location. (the highest count location is Temporal and lowest count location is Frontal)"
   ]
  },
  {
   "cell_type": "markdown",
   "id": "69940001-d940-4e85-81c8-c66645572ce6",
   "metadata": {},
   "source": [
    "# Stage :"
   ]
  },
  {
   "cell_type": "code",
   "execution_count": 285,
   "id": "e8b507ba-849c-4854-9805-94e6554c52da",
   "metadata": {},
   "outputs": [
    {
     "data": {
      "text/plain": [
       "array(['III', 'II', 'I', 'IV'], dtype=object)"
      ]
     },
     "execution_count": 285,
     "metadata": {},
     "output_type": "execute_result"
    }
   ],
   "source": [
    "df['Stage'].unique()"
   ]
  },
  {
   "cell_type": "code",
   "execution_count": 359,
   "id": "ef8adcd6-0de9-4dd8-a718-19792e6f0520",
   "metadata": {},
   "outputs": [
    {
     "name": "stdout",
     "output_type": "stream",
     "text": [
      "Stage\n",
      "II     5093\n",
      "I      4986\n",
      "IV     4968\n",
      "III    4953\n",
      "Name: count, dtype: int64\n"
     ]
    }
   ],
   "source": [
    "stage_counts = df['Stage'].value_counts()\n",
    "print(stage_counts)"
   ]
  },
  {
   "cell_type": "markdown",
   "id": "784a8371-da3d-4065-a6c9-0abbb35c61cb",
   "metadata": {},
   "source": [
    "### Pie plot : "
   ]
  },
  {
   "cell_type": "code",
   "execution_count": 369,
   "id": "61f11bda-dfd4-4c85-9b80-938e1685da0b",
   "metadata": {},
   "outputs": [
    {
     "data": {
      "image/png": "[encoded data removed]",
      "text/plain": [
       "<Figure size 640x480 with 1 Axes>"
      ]
     },
     "metadata": {},
     "output_type": "display_data"
    }
   ],
   "source": [
    "stage_counts = df['Stage'].value_counts()\n",
    "\n",
    "plt.pie(stage_counts, labels = stage_counts.index, autopct='%1.1f%%', startangle=90, colors=plt.cm.Paired.colors)\n",
    "plt.title('Stage_Distribution')\n",
    "plt.axis('equal')\n",
    "plt.show()"
   ]
  },
  {
   "cell_type": "markdown",
   "id": "989b6f76-a3a3-4c59-a0fd-22c3e6d353e7",
   "metadata": {},
   "source": [
    "## Show the percentage wise count of stage. (In this graph show the highest percentage is stage 2 i.e is 25.5%)"
   ]
  },
  {
   "cell_type": "code",
   "execution_count": null,
   "id": "9b5bcb28-c7c9-48b3-95e4-6f9ef6583412",
   "metadata": {},
   "outputs": [],
   "source": []
  },
  {
   "cell_type": "code",
   "execution_count": 42,
   "id": "b77e7f08-1db7-403d-802c-57cceff63379",
   "metadata": {},
   "outputs": [
    {
     "data": {
      "image/png": "[encoded data removed]",
      "text/plain": [
       "<Figure size 1200x800 with 2 Axes>"
      ]
     },
     "metadata": {},
     "output_type": "display_data"
    }
   ],
   "source": [
    "# Load the dataset\n",
    "df = pd.read_csv('brain_tumor_dataset.csv') \n",
    "\n",
    "# Drop non-numeric columns for correlation heatmap (e.g., ID, filename)\n",
    "df_numeric = df.select_dtypes(include=['float64', 'int64'])\n",
    "\n",
    "# Correlation matrix\n",
    "correlation_matrix = df_numeric.corr()\n",
    "\n",
    "# Plotting the heatmap\n",
    "plt.figure(figsize=(12, 8))\n",
    "sns.heatmap(correlation_matrix, annot=True, cmap='coolwarm', fmt=\".2f\", linewidths=0.5)\n",
    "plt.title('Correlation Heatmap of Brain Tumor Dataset Features')\n",
    "plt.show()"
   ]
  },
  {
   "cell_type": "markdown",
   "id": "3e0ef9d6-7091-4e69-a132-afd3aa4ec329",
   "metadata": {},
   "source": [
    "## Show corelation between Patient_ID, Age, Tumor_Size, Survival_Rate and Tumor_Growth_Rate "
   ]
  },
  {
   "cell_type": "code",
   "execution_count": null,
   "id": "17a6c15d-576d-4157-a020-45bfd3b4706a",
   "metadata": {},
   "outputs": [],
   "source": []
  },
  {
   "cell_type": "code",
   "execution_count": null,
   "id": "f4d0abef-26b9-4092-ac74-55fd91da91f8",
   "metadata": {},
   "outputs": [],
   "source": []
  },
  {
   "cell_type": "code",
   "execution_count": 36,
   "id": "cd3a3fbc-a577-4466-bd5f-945136dd98fb",
   "metadata": {},
   "outputs": [
    {
     "data": {
      "text/html": [
       "<div>\n",
       "<style scoped>\n",
       "    .dataframe tbody tr th:only-of-type {\n",
       "        vertical-align: middle;\n",
       "    }\n",
       "\n",
       "    .dataframe tbody tr th {\n",
       "        vertical-align: top;\n",
       "    }\n",
       "\n",
       "    .dataframe thead th {\n",
       "        text-align: right;\n",
       "    }\n",
       "</style>\n",
       "<table border=\"1\" class=\"dataframe\">\n",
       "  <thead>\n",
       "    <tr style=\"text-align: right;\">\n",
       "      <th></th>\n",
       "      <th>Patient_ID</th>\n",
       "      <th>Age</th>\n",
       "      <th>Gender</th>\n",
       "      <th>Tumor_Type</th>\n",
       "      <th>Tumor_Size</th>\n",
       "      <th>Location</th>\n",
       "      <th>Histology</th>\n",
       "      <th>Stage</th>\n",
       "      <th>Symptom_1</th>\n",
       "      <th>Symptom_2</th>\n",
       "      <th>Symptom_3</th>\n",
       "      <th>Radiation_Treatment</th>\n",
       "      <th>Surgery_Performed</th>\n",
       "      <th>Chemotherapy</th>\n",
       "      <th>Survival_Rate</th>\n",
       "      <th>Tumor_Growth_Rate</th>\n",
       "      <th>Family_History</th>\n",
       "      <th>MRI_Result</th>\n",
       "      <th>Follow_Up_Required</th>\n",
       "    </tr>\n",
       "  </thead>\n",
       "  <tbody>\n",
       "    <tr>\n",
       "      <th>0</th>\n",
       "      <td>1</td>\n",
       "      <td>73</td>\n",
       "      <td>1</td>\n",
       "      <td>Malignant</td>\n",
       "      <td>5.375612</td>\n",
       "      <td>3</td>\n",
       "      <td>0</td>\n",
       "      <td>2</td>\n",
       "      <td>3</td>\n",
       "      <td>2</td>\n",
       "      <td>2</td>\n",
       "      <td>0</td>\n",
       "      <td>0</td>\n",
       "      <td>0</td>\n",
       "      <td>51.312579</td>\n",
       "      <td>0.111876</td>\n",
       "      <td>0</td>\n",
       "      <td>1</td>\n",
       "      <td>1</td>\n",
       "    </tr>\n",
       "    <tr>\n",
       "      <th>1</th>\n",
       "      <td>2</td>\n",
       "      <td>26</td>\n",
       "      <td>1</td>\n",
       "      <td>Benign</td>\n",
       "      <td>4.847098</td>\n",
       "      <td>2</td>\n",
       "      <td>1</td>\n",
       "      <td>1</td>\n",
       "      <td>0</td>\n",
       "      <td>0</td>\n",
       "      <td>1</td>\n",
       "      <td>1</td>\n",
       "      <td>1</td>\n",
       "      <td>1</td>\n",
       "      <td>46.373273</td>\n",
       "      <td>2.165736</td>\n",
       "      <td>1</td>\n",
       "      <td>1</td>\n",
       "      <td>1</td>\n",
       "    </tr>\n",
       "    <tr>\n",
       "      <th>2</th>\n",
       "      <td>3</td>\n",
       "      <td>31</td>\n",
       "      <td>1</td>\n",
       "      <td>Benign</td>\n",
       "      <td>5.588391</td>\n",
       "      <td>2</td>\n",
       "      <td>3</td>\n",
       "      <td>0</td>\n",
       "      <td>3</td>\n",
       "      <td>0</td>\n",
       "      <td>2</td>\n",
       "      <td>0</td>\n",
       "      <td>0</td>\n",
       "      <td>0</td>\n",
       "      <td>47.072221</td>\n",
       "      <td>1.884228</td>\n",
       "      <td>0</td>\n",
       "      <td>0</td>\n",
       "      <td>0</td>\n",
       "    </tr>\n",
       "    <tr>\n",
       "      <th>3</th>\n",
       "      <td>4</td>\n",
       "      <td>29</td>\n",
       "      <td>1</td>\n",
       "      <td>Malignant</td>\n",
       "      <td>1.436600</td>\n",
       "      <td>3</td>\n",
       "      <td>2</td>\n",
       "      <td>3</td>\n",
       "      <td>3</td>\n",
       "      <td>2</td>\n",
       "      <td>0</td>\n",
       "      <td>1</td>\n",
       "      <td>0</td>\n",
       "      <td>1</td>\n",
       "      <td>51.853634</td>\n",
       "      <td>1.283342</td>\n",
       "      <td>1</td>\n",
       "      <td>0</td>\n",
       "      <td>0</td>\n",
       "    </tr>\n",
       "    <tr>\n",
       "      <th>4</th>\n",
       "      <td>5</td>\n",
       "      <td>54</td>\n",
       "      <td>0</td>\n",
       "      <td>Benign</td>\n",
       "      <td>2.417506</td>\n",
       "      <td>2</td>\n",
       "      <td>1</td>\n",
       "      <td>0</td>\n",
       "      <td>0</td>\n",
       "      <td>0</td>\n",
       "      <td>2</td>\n",
       "      <td>0</td>\n",
       "      <td>0</td>\n",
       "      <td>1</td>\n",
       "      <td>54.708987</td>\n",
       "      <td>2.069477</td>\n",
       "      <td>0</td>\n",
       "      <td>1</td>\n",
       "      <td>1</td>\n",
       "    </tr>\n",
       "    <tr>\n",
       "      <th>...</th>\n",
       "      <td>...</td>\n",
       "      <td>...</td>\n",
       "      <td>...</td>\n",
       "      <td>...</td>\n",
       "      <td>...</td>\n",
       "      <td>...</td>\n",
       "      <td>...</td>\n",
       "      <td>...</td>\n",
       "      <td>...</td>\n",
       "      <td>...</td>\n",
       "      <td>...</td>\n",
       "      <td>...</td>\n",
       "      <td>...</td>\n",
       "      <td>...</td>\n",
       "      <td>...</td>\n",
       "      <td>...</td>\n",
       "      <td>...</td>\n",
       "      <td>...</td>\n",
       "      <td>...</td>\n",
       "    </tr>\n",
       "    <tr>\n",
       "      <th>19995</th>\n",
       "      <td>19996</td>\n",
       "      <td>21</td>\n",
       "      <td>1</td>\n",
       "      <td>Malignant</td>\n",
       "      <td>9.612013</td>\n",
       "      <td>2</td>\n",
       "      <td>2</td>\n",
       "      <td>2</td>\n",
       "      <td>2</td>\n",
       "      <td>1</td>\n",
       "      <td>3</td>\n",
       "      <td>0</td>\n",
       "      <td>0</td>\n",
       "      <td>1</td>\n",
       "      <td>58.229662</td>\n",
       "      <td>0.353806</td>\n",
       "      <td>0</td>\n",
       "      <td>0</td>\n",
       "      <td>1</td>\n",
       "    </tr>\n",
       "    <tr>\n",
       "      <th>19996</th>\n",
       "      <td>19997</td>\n",
       "      <td>32</td>\n",
       "      <td>0</td>\n",
       "      <td>Benign</td>\n",
       "      <td>1.543560</td>\n",
       "      <td>3</td>\n",
       "      <td>3</td>\n",
       "      <td>2</td>\n",
       "      <td>0</td>\n",
       "      <td>0</td>\n",
       "      <td>3</td>\n",
       "      <td>1</td>\n",
       "      <td>1</td>\n",
       "      <td>0</td>\n",
       "      <td>77.706856</td>\n",
       "      <td>2.341074</td>\n",
       "      <td>0</td>\n",
       "      <td>1</td>\n",
       "      <td>0</td>\n",
       "    </tr>\n",
       "    <tr>\n",
       "      <th>19997</th>\n",
       "      <td>19998</td>\n",
       "      <td>57</td>\n",
       "      <td>0</td>\n",
       "      <td>Benign</td>\n",
       "      <td>3.618634</td>\n",
       "      <td>3</td>\n",
       "      <td>2</td>\n",
       "      <td>0</td>\n",
       "      <td>2</td>\n",
       "      <td>3</td>\n",
       "      <td>1</td>\n",
       "      <td>0</td>\n",
       "      <td>0</td>\n",
       "      <td>1</td>\n",
       "      <td>89.543803</td>\n",
       "      <td>2.332881</td>\n",
       "      <td>0</td>\n",
       "      <td>1</td>\n",
       "      <td>1</td>\n",
       "    </tr>\n",
       "    <tr>\n",
       "      <th>19998</th>\n",
       "      <td>19999</td>\n",
       "      <td>68</td>\n",
       "      <td>1</td>\n",
       "      <td>Malignant</td>\n",
       "      <td>8.519086</td>\n",
       "      <td>2</td>\n",
       "      <td>1</td>\n",
       "      <td>2</td>\n",
       "      <td>2</td>\n",
       "      <td>0</td>\n",
       "      <td>3</td>\n",
       "      <td>1</td>\n",
       "      <td>1</td>\n",
       "      <td>1</td>\n",
       "      <td>83.306781</td>\n",
       "      <td>2.387202</td>\n",
       "      <td>0</td>\n",
       "      <td>1</td>\n",
       "      <td>0</td>\n",
       "    </tr>\n",
       "    <tr>\n",
       "      <th>19999</th>\n",
       "      <td>20000</td>\n",
       "      <td>61</td>\n",
       "      <td>1</td>\n",
       "      <td>Benign</td>\n",
       "      <td>9.716768</td>\n",
       "      <td>3</td>\n",
       "      <td>2</td>\n",
       "      <td>0</td>\n",
       "      <td>3</td>\n",
       "      <td>2</td>\n",
       "      <td>1</td>\n",
       "      <td>0</td>\n",
       "      <td>0</td>\n",
       "      <td>0</td>\n",
       "      <td>47.433468</td>\n",
       "      <td>2.464077</td>\n",
       "      <td>1</td>\n",
       "      <td>0</td>\n",
       "      <td>1</td>\n",
       "    </tr>\n",
       "  </tbody>\n",
       "</table>\n",
       "<p>20000 rows × 19 columns</p>\n",
       "</div>"
      ],
      "text/plain": [
       "       Patient_ID  Age  Gender Tumor_Type  Tumor_Size  Location  Histology  \\\n",
       "0               1   73       1  Malignant    5.375612         3          0   \n",
       "1               2   26       1     Benign    4.847098         2          1   \n",
       "2               3   31       1     Benign    5.588391         2          3   \n",
       "3               4   29       1  Malignant    1.436600         3          2   \n",
       "4               5   54       0     Benign    2.417506         2          1   \n",
       "...           ...  ...     ...        ...         ...       ...        ...   \n",
       "19995       19996   21       1  Malignant    9.612013         2          2   \n",
       "19996       19997   32       0     Benign    1.543560         3          3   \n",
       "19997       19998   57       0     Benign    3.618634         3          2   \n",
       "19998       19999   68       1  Malignant    8.519086         2          1   \n",
       "19999       20000   61       1     Benign    9.716768         3          2   \n",
       "\n",
       "       Stage  Symptom_1  Symptom_2  Symptom_3  Radiation_Treatment  \\\n",
       "0          2          3          2          2                    0   \n",
       "1          1          0          0          1                    1   \n",
       "2          0          3          0          2                    0   \n",
       "3          3          3          2          0                    1   \n",
       "4          0          0          0          2                    0   \n",
       "...      ...        ...        ...        ...                  ...   \n",
       "19995      2          2          1          3                    0   \n",
       "19996      2          0          0          3                    1   \n",
       "19997      0          2          3          1                    0   \n",
       "19998      2          2          0          3                    1   \n",
       "19999      0          3          2          1                    0   \n",
       "\n",
       "       Surgery_Performed  Chemotherapy  Survival_Rate  Tumor_Growth_Rate  \\\n",
       "0                      0             0      51.312579           0.111876   \n",
       "1                      1             1      46.373273           2.165736   \n",
       "2                      0             0      47.072221           1.884228   \n",
       "3                      0             1      51.853634           1.283342   \n",
       "4                      0             1      54.708987           2.069477   \n",
       "...                  ...           ...            ...                ...   \n",
       "19995                  0             1      58.229662           0.353806   \n",
       "19996                  1             0      77.706856           2.341074   \n",
       "19997                  0             1      89.543803           2.332881   \n",
       "19998                  1             1      83.306781           2.387202   \n",
       "19999                  0             0      47.433468           2.464077   \n",
       "\n",
       "       Family_History  MRI_Result  Follow_Up_Required  \n",
       "0                   0           1                   1  \n",
       "1                   1           1                   1  \n",
       "2                   0           0                   0  \n",
       "3                   1           0                   0  \n",
       "4                   0           1                   1  \n",
       "...               ...         ...                 ...  \n",
       "19995               0           0                   1  \n",
       "19996               0           1                   0  \n",
       "19997               0           1                   1  \n",
       "19998               0           1                   0  \n",
       "19999               1           0                   1  \n",
       "\n",
       "[20000 rows x 19 columns]"
      ]
     },
     "execution_count": 36,
     "metadata": {},
     "output_type": "execute_result"
    }
   ],
   "source": [
    "# Initialize LabelEncoder\n",
    "encoder = LabelEncoder()\n",
    "\n",
    "# Apply LabelEncoder to multiple columns\n",
    "for col in [\"Gender\", \"Location\", \"Histology\", \"Symptom_1\", \"Symptom_2\", \"Symptom_3\", \"Radiation_Treatment\", \"Surgery_Performed\", \"Chemotherapy\", \"Family_History\", \"Stage\", \"MRI_Result\", \"Follow_Up_Required\"]:\n",
    "    df[col] = encoder.fit_transform(df[col])\n",
    "\n",
    "df"
   ]
  },
  {
   "cell_type": "code",
   "execution_count": 14,
   "id": "a055d59d-1f1a-4903-bfed-10886eb3c1de",
   "metadata": {},
   "outputs": [
    {
     "data": {
      "text/plain": [
       "1.0"
      ]
     },
     "execution_count": 14,
     "metadata": {},
     "output_type": "execute_result"
    }
   ],
   "source": [
    "df['Symptom_1'].median()"
   ]
  },
  {
   "cell_type": "code",
   "execution_count": 16,
   "id": "bab28318-8c82-47dd-b237-df3636b66864",
   "metadata": {},
   "outputs": [
    {
     "data": {
      "text/plain": [
       "2.0"
      ]
     },
     "execution_count": 16,
     "metadata": {},
     "output_type": "execute_result"
    }
   ],
   "source": [
    "df['Symptom_2'].median()"
   ]
  },
  {
   "cell_type": "code",
   "execution_count": 18,
   "id": "eb8fdcc8-69cf-4128-8433-83978eaf1cc5",
   "metadata": {},
   "outputs": [
    {
     "data": {
      "text/plain": [
       "2.0"
      ]
     },
     "execution_count": 18,
     "metadata": {},
     "output_type": "execute_result"
    }
   ],
   "source": [
    "df['Symptom_3'].median()"
   ]
  },
  {
   "cell_type": "markdown",
   "id": "b1aafab3-cf38-4b8a-ac8c-41df5672f948",
   "metadata": {},
   "source": [
    "### Box Plot :"
   ]
  },
  {
   "cell_type": "code",
   "execution_count": 281,
   "id": "0cf063ab-c502-493f-9d6a-f050979e0a98",
   "metadata": {},
   "outputs": [
    {
     "data": {
      "image/png": "[encoded data removed]",
      "text/plain": [
       "<Figure size 640x480 with 1 Axes>"
      ]
     },
     "metadata": {},
     "output_type": "display_data"
    }
   ],
   "source": [
    "sns.boxplot(data = df [['Symptom_1', 'Symptom_2', 'Symptom_3']])\n",
    "plt.title('Age Distribution by Brain tumor')\n",
    "plt.xlabel('Symptom Category')\n",
    "plt.ylabel('Age')\n",
    "plt.show()"
   ]
  },
  {
   "cell_type": "code",
   "execution_count": null,
   "id": "0e58e799-0d83-427e-8100-767b771a9431",
   "metadata": {},
   "outputs": [],
   "source": []
  },
  {
   "cell_type": "code",
   "execution_count": null,
   "id": "2466a385-7292-4670-9f64-8f7b493235df",
   "metadata": {},
   "outputs": [],
   "source": []
  },
  {
   "cell_type": "code",
   "execution_count": null,
   "id": "e7cc4267-bf0e-4273-bb41-3b557e22da75",
   "metadata": {},
   "outputs": [],
   "source": []
  }
 ],
 "metadata": {
  "kernelspec": {
   "display_name": "Python [conda env:anaconda3]",
   "language": "python",
   "name": "conda-env-anaconda3-py"
  },
  "language_info": {
   "codemirror_mode": {
    "name": "ipython",
    "version": 3
   },
   "file_extension": ".py",
   "mimetype": "text/x-python",
   "name": "python",
   "nbconvert_exporter": "python",
   "pygments_lexer": "ipython3",
   "version": "3.12.7"
  }
 },
 "nbformat": 4,
 "nbformat_minor": 5
}
